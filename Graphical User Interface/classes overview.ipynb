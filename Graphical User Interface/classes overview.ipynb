{
 "cells": [
  {
   "cell_type": "code",
   "execution_count": 5,
   "metadata": {},
   "outputs": [],
   "source": [
    "# make a class called student\n",
    "\n",
    "class Student:\n",
    "    def __init__(jose, name, age, grade):\n",
    "        jose.name = name\n",
    "        jose.age = age\n",
    "        jose.grade = grade\n",
    "    \n",
    "    # define a method to calculate average grade\n",
    "    def calculate_average_grade(jose):\n",
    "        return sum(jose.grade) / len(jose.grade)\n",
    "    \n",
    "\n",
    "class Alumni(Student):\n",
    "    def __init__(self, name, age, grade, alumni_org):\n",
    "        super().__init__(name, age, grade)\n",
    "        self.alumni_org = alumni_org\n",
    "    def show_orgs(self):\n",
    "        print(f\"{self.name} is an alumni of {self.alumni_org}\")"
   ]
  },
  {
   "cell_type": "code",
   "execution_count": 6,
   "metadata": {},
   "outputs": [],
   "source": [
    "a1 = Alumni('jose',16,[90,92,95], 'telecomunnication')"
   ]
  },
  {
   "cell_type": "code",
   "execution_count": 7,
   "metadata": {},
   "outputs": [
    {
     "name": "stdout",
     "output_type": "stream",
     "text": [
      "jose is an alumni of telecomunnication\n"
     ]
    }
   ],
   "source": [
    "a1.show_orgs()"
   ]
  },
  {
   "cell_type": "code",
   "execution_count": 4,
   "metadata": {},
   "outputs": [
    {
     "data": {
      "text/plain": [
       "92.33333333333333"
      ]
     },
     "execution_count": 4,
     "metadata": {},
     "output_type": "execute_result"
    }
   ],
   "source": [
    "a1.calculate_average_grade()"
   ]
  },
  {
   "cell_type": "code",
   "execution_count": null,
   "metadata": {},
   "outputs": [],
   "source": []
  }
 ],
 "metadata": {
  "kernelspec": {
   "display_name": "Python 3",
   "language": "python",
   "name": "python3"
  },
  "language_info": {
   "codemirror_mode": {
    "name": "ipython",
    "version": 3
   },
   "file_extension": ".py",
   "mimetype": "text/x-python",
   "name": "python",
   "nbconvert_exporter": "python",
   "pygments_lexer": "ipython3",
   "version": "3.11.9"
  }
 },
 "nbformat": 4,
 "nbformat_minor": 2
}
