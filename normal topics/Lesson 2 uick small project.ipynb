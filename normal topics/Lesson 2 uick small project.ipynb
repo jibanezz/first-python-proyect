{
 "cells": [
  {
   "cell_type": "code",
   "execution_count": 1,
   "metadata": {},
   "outputs": [],
   "source": [
    "# + - / *\n",
    "# mathematical"
   ]
  },
  {
   "cell_type": "code",
   "execution_count": 2,
   "metadata": {},
   "outputs": [],
   "source": [
    "# comparative \n",
    "# > < >= <= == !="
   ]
  },
  {
   "cell_type": "code",
   "execution_count": 3,
   "metadata": {},
   "outputs": [],
   "source": [
    "# logical operators\n",
    "# and or not "
   ]
  },
  {
   "cell_type": "code",
   "execution_count": 4,
   "metadata": {},
   "outputs": [],
   "source": [
    "# condtions \n",
    "# if if else "
   ]
  },
  {
   "cell_type": "code",
   "execution_count": 5,
   "metadata": {},
   "outputs": [],
   "source": [
    "# loops\n",
    "# repeating for loop and while loop\n"
   ]
  },
  {
   "cell_type": "code",
   "execution_count": 6,
   "metadata": {},
   "outputs": [],
   "source": [
    "# structure \n",
    "# list tuple dictionary set"
   ]
  },
  {
   "cell_type": "markdown",
   "metadata": {},
   "source": [
    "1. **User Input:**\n",
    "   - How would you prompt the user to input the total number of hours a car has been parked?\n",
    "\n",
    "2. **Data Validation:**\n",
    "   - How can you ensure that the user's input for the number of hours is a numerical value?\n",
    "\n",
    "3. **Mathematical Operations:**\n",
    "   - Once you have the input, how would you calculate the parking fee based on the given rates of $1 per hour for the first 5 hours, $0.8 per hour for the next 5 hours, $0.7 per hour for hours between 15 and 24, and $0.6 per hour for more than 24 hours?\n",
    "\n",
    "4. **Comparison Operators:**\n",
    "   - How would you use comparison operators to check if the parking duration is within the specified ranges (5 hours, 10 hours, 15 hours, 24 hours)?\n",
    "\n",
    "5. **Conditional Statements:**\n",
    "   - What kind of conditional statements or structures would you implement to apply the appropriate parking fee based on the calculated duration?\n",
    "\n",
    "6. **Data Structures:**\n",
    "   - Would you use any data structures to store and manage information related to parking durations and corresponding fees? If so, how would you structure this data?\n",
    "\n"
   ]
  },
  {
   "cell_type": "code",
   "execution_count": 1,
   "metadata": {},
   "outputs": [],
   "source": [
    "registered_users  = ['jose','umair','apple']\n",
    "admins = ['admin']"
   ]
  },
  {
   "cell_type": "code",
   "execution_count": 2,
   "metadata": {},
   "outputs": [
    {
     "name": "stdout",
     "output_type": "stream",
     "text": [
      "hi admin your total bill is $30.0\n",
      "hi fs your total bill is $30.0\n"
     ]
    },
    {
     "ename": "NameError",
     "evalue": "name 'sdf' is not defined",
     "output_type": "error",
     "traceback": [
      "\u001b[1;31m---------------------------------------------------------------------------\u001b[0m",
      "\u001b[1;31mNameError\u001b[0m                                 Traceback (most recent call last)",
      "Cell \u001b[1;32mIn[2], line 3\u001b[0m\n\u001b[0;32m      1\u001b[0m \u001b[38;5;28;01mwhile\u001b[39;00m (\u001b[38;5;28;01mTrue\u001b[39;00m):\n\u001b[1;32m----> 3\u001b[0m     hours \u001b[38;5;241m=\u001b[39m \u001b[38;5;28;43meval\u001b[39;49m\u001b[43m(\u001b[49m\u001b[38;5;28;43minput\u001b[39;49m\u001b[43m(\u001b[49m\u001b[38;5;124;43m'\u001b[39;49m\u001b[38;5;124;43mhow many hours have u been parked? \u001b[39;49m\u001b[38;5;124;43m'\u001b[39;49m\u001b[43m)\u001b[49m\u001b[43m)\u001b[49m\n\u001b[0;32m      4\u001b[0m     name \u001b[38;5;241m=\u001b[39m \u001b[38;5;28minput\u001b[39m(\u001b[38;5;124m'\u001b[39m\u001b[38;5;124mplease enter the name: \u001b[39m\u001b[38;5;124m'\u001b[39m)\n\u001b[0;32m      5\u001b[0m     \u001b[38;5;28;01mif\u001b[39;00m name \u001b[38;5;129;01min\u001b[39;00m admins:\n",
      "File \u001b[1;32m<string>:1\u001b[0m\n",
      "\u001b[1;31mNameError\u001b[0m: name 'sdf' is not defined"
     ]
    }
   ],
   "source": [
    "while (True):\n",
    "\n",
    "    hours = eval(input('how many hours have u been parked? '))\n",
    "    name = input('please enter the name: ')\n",
    "    if name in admins:\n",
    "         regis = input('please write nme if you want to register another user or leave it empty')\n",
    "         if regis != '':\n",
    "            registered_users.append(name)\n",
    "            print(registered_users,\"is now registered\")\n",
    "    if hours >72 and not name in registered_users:\n",
    "        print('you have been parked for more than 72 hours')\n",
    "        print(\"your car is now in police stations\")\n",
    "        continue\n",
    "\n",
    "\n",
    "    rate = 0\n",
    "\n",
    "    if hours <= 5:\n",
    "        rate = 1\n",
    "    elif hours > 5 and hours <= 10:\n",
    "        rate = 0.8\n",
    "\n",
    "    elif hours > 10 and hours <= 24:\n",
    "        rate = 0.7\n",
    "\n",
    "    else:\n",
    "        rate = 0.6\n",
    "\n",
    "    total_bill = hours * rate\n",
    "    # registered user has 40 percent discount\n",
    "\n",
    "    if name in registered_users:            \n",
    "        print(f\"hi {name} your bill is {total_bill} with 40 percent discount is is ${total_bill * 0.6}\" )\n",
    "    else:\n",
    "        print(f'hi {name} your total bill is ${total_bill}')\n",
    " \n",
    "    con = input('do you want to continue? (y/n) ')\n",
    "    if con == 'nodf':\n",
    "        break\n",
    "   \n",
    "\n",
    "\n",
    "        "
   ]
  },
  {
   "cell_type": "code",
   "execution_count": null,
   "metadata": {},
   "outputs": [],
   "source": []
  }
 ],
 "metadata": {
  "kernelspec": {
   "display_name": "Python 3",
   "language": "python",
   "name": "python3"
  },
  "language_info": {
   "codemirror_mode": {
    "name": "ipython",
    "version": 3
   },
   "file_extension": ".py",
   "mimetype": "text/x-python",
   "name": "python",
   "nbconvert_exporter": "python",
   "pygments_lexer": "ipython3",
   "version": "3.11.7"
  }
 },
 "nbformat": 4,
 "nbformat_minor": 2
}
