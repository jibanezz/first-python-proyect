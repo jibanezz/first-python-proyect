{
  "cells": [
    {
      "cell_type": "markdown",
      "metadata": {
        "id": "XfiutYGe4Ld6"
      },
      "source": [
        "Data Types (str, number(int, floats,boolen))"
      ]
    },
    {
      "cell_type": "code",
      "execution_count": 2,
      "metadata": {
        "colab": {
          "base_uri": "https://localhost:8080/"
        },
        "id": "fMN_3odI3JM6",
        "outputId": "3471f76e-b8cf-44a6-a042-7db8a7839322"
      },
      "outputs": [
        {
          "name": "stdout",
          "output_type": "stream",
          "text": [
            "jose\n"
          ]
        }
      ],
      "source": [
        "print('jose')"
      ]
    },
    {
      "cell_type": "code",
      "execution_count": 6,
      "metadata": {
        "colab": {
          "base_uri": "https://localhost:8080/"
        },
        "id": "kMHtBLl03t4B",
        "outputId": "96e04aee-4518-4587-c757-765a5067e8a6"
      },
      "outputs": [
        {
          "data": {
            "text/plain": [
              "[100, 12, 21]"
            ]
          },
          "execution_count": 6,
          "metadata": {},
          "output_type": "execute_result"
        }
      ],
      "source": [
        "list((100, 12, 21))"
      ]
    },
    {
      "cell_type": "code",
      "execution_count": 10,
      "metadata": {
        "colab": {
          "base_uri": "https://localhost:8080/"
        },
        "id": "qlvfePMX4au5",
        "outputId": "0cb45ef7-eea1-4fcc-f7d2-b7a2666973c0"
      },
      "outputs": [
        {
          "data": {
            "text/plain": [
              "float"
            ]
          },
          "execution_count": 10,
          "metadata": {},
          "output_type": "execute_result"
        }
      ],
      "source": [
        "x = 10.5\n",
        "type(x)"
      ]
    },
    {
      "cell_type": "code",
      "execution_count": 10,
      "metadata": {
        "id": "8h9DLCfa4aOz"
      },
      "outputs": [],
      "source": []
    },
    {
      "cell_type": "code",
      "execution_count": 10,
      "metadata": {
        "id": "X8I5IBGE4Z8o"
      },
      "outputs": [],
      "source": []
    },
    {
      "cell_type": "markdown",
      "metadata": {
        "id": "m9TBwAw64CuP"
      },
      "source": [
        "### Data Structures (List,tuple,set,Dictionary)"
      ]
    },
    {
      "cell_type": "code",
      "execution_count": 11,
      "metadata": {
        "id": "LFKHw9dI37M6"
      },
      "outputs": [],
      "source": [
        "jose = [10,20,30]\n"
      ]
    },
    {
      "cell_type": "code",
      "execution_count": 2,
      "metadata": {
        "id": "NMkr2zbK4AZY"
      },
      "outputs": [],
      "source": [
        "# can you make a list of 3 colors\n",
        "colors = [\"red\", \"green\", \"blue\"]\n"
      ]
    },
    {
      "cell_type": "code",
      "execution_count": 3,
      "metadata": {},
      "outputs": [],
      "source": [
        "\n",
        "# first make a list with colors\n",
        "# make a list with fruits\n",
        "# put them into M list\n"
      ]
    },
    {
      "cell_type": "code",
      "execution_count": 8,
      "metadata": {},
      "outputs": [
        {
          "name": "stdout",
          "output_type": "stream",
          "text": [
            "blue\n",
            "banana\n"
          ]
        }
      ],
      "source": [
        "colors = [\"red\", \"green\", \"blue\"]\n",
        "fruits = [\"apple\", \"banana\", \"cherry\"]\n",
        "M = [colors, fruits]\n",
        "print(M[0][2])\n",
        "print(M[1][1] )"
      ]
    },
    {
      "cell_type": "code",
      "execution_count": null,
      "metadata": {},
      "outputs": [],
      "source": []
    }
  ],
  "metadata": {
    "colab": {
      "provenance": []
    },
    "kernelspec": {
      "display_name": "Python 3",
      "name": "python3"
    },
    "language_info": {
      "codemirror_mode": {
        "name": "ipython",
        "version": 3
      },
      "file_extension": ".py",
      "mimetype": "text/x-python",
      "name": "python",
      "nbconvert_exporter": "python",
      "pygments_lexer": "ipython3",
      "version": "3.11.0"
    }
  },
  "nbformat": 4,
  "nbformat_minor": 0
}
