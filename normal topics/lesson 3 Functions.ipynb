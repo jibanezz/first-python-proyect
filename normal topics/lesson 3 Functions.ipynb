{
 "cells": [
  {
   "cell_type": "code",
   "execution_count": 1,
   "metadata": {},
   "outputs": [
    {
     "name": "stdout",
     "output_type": "stream",
     "text": [
      "the sum is 30\n",
      "the difference is -10\n",
      "the product is 200\n",
      "the divisional is 0.5\n",
      "the exponential is 100000000000000000000\n"
     ]
    }
   ],
   "source": [
    "# making a simple calcualto rto add substract multiply etc\n",
    "x = 10\n",
    "y = 20\n",
    "print(\"the sum is\",x+y)\n",
    "print(\"the difference is\",x-y)\n",
    "print(\"the product is\",x*y)\n",
    "print(\"the divisional is\",x/y)\n",
    "print(\"the exponential is\",x**y)\n",
    "\n"
   ]
  },
  {
   "cell_type": "code",
   "execution_count": 2,
   "metadata": {},
   "outputs": [
    {
     "name": "stdout",
     "output_type": "stream",
     "text": [
      "the sum is 80\n",
      "the difference is 20\n",
      "the product is 1500\n",
      "the divisional is 1.6666666666666667\n",
      "the exponential is 931322574615478515625000000000000000000000000000000\n"
     ]
    }
   ],
   "source": [
    "x = 50\n",
    "y = 30\n",
    "print(\"the sum is\",x+y)\n",
    "print(\"the difference is\",x-y)\n",
    "print(\"the product is\",x*y)\n",
    "print(\"the divisional is\",x/y)\n",
    "print(\"the exponential is\",x**y)"
   ]
  },
  {
   "cell_type": "code",
   "execution_count": 3,
   "metadata": {},
   "outputs": [],
   "source": [
    "# makeing a simple calculator using function my_calculator\n",
    "def my_calculator(x,y):\n",
    "    print(\"the sum is\",x+y)\n",
    "    print(\"the difference is\",x-y)\n",
    "    print(\"the product is\",x*y)\n",
    "    print(\"the divisional is\",x/y)\n",
    "    print(\"the exponential is\",x**y)\n",
    "    "
   ]
  },
  {
   "cell_type": "code",
   "execution_count": 4,
   "metadata": {},
   "outputs": [
    {
     "name": "stdout",
     "output_type": "stream",
     "text": [
      "the sum is 30\n",
      "the difference is -10\n",
      "the product is 200\n",
      "the divisional is 0.5\n",
      "the exponential is 100000000000000000000\n"
     ]
    }
   ],
   "source": [
    "my_calculator(10,20)"
   ]
  },
  {
   "cell_type": "code",
   "execution_count": 5,
   "metadata": {},
   "outputs": [
    {
     "name": "stdout",
     "output_type": "stream",
     "text": [
      "the sum is 7\n",
      "the difference is -3\n",
      "the product is 10\n",
      "the divisional is 0.4\n",
      "the exponential is 32\n"
     ]
    }
   ],
   "source": [
    "my_calculator(2,5)"
   ]
  },
  {
   "cell_type": "code",
   "execution_count": 6,
   "metadata": {},
   "outputs": [],
   "source": [
    "# positon argument"
   ]
  },
  {
   "cell_type": "code",
   "execution_count": 7,
   "metadata": {},
   "outputs": [],
   "source": [
    "# can you make function which will take your name and age \n",
    "# it will print your name is name and your age is age\n"
   ]
  },
  {
   "cell_type": "code",
   "execution_count": 17,
   "metadata": {},
   "outputs": [],
   "source": [
    "def age_name(name,age,gender = \"Male\"):\n",
    "    print('your name is',name)\n",
    "    print('your age is',age)\n",
    "    print('your gender is',gender)"
   ]
  },
  {
   "cell_type": "code",
   "execution_count": 18,
   "metadata": {},
   "outputs": [
    {
     "name": "stdout",
     "output_type": "stream",
     "text": [
      "your name is umair\n",
      "your age is 29\n",
      "your gender is Male\n"
     ]
    }
   ],
   "source": [
    "age_name(\"umair\",29) # positional argument"
   ]
  },
  {
   "cell_type": "code",
   "execution_count": 19,
   "metadata": {},
   "outputs": [
    {
     "name": "stdout",
     "output_type": "stream",
     "text": [
      "your name is umair\n",
      "your age is 30\n",
      "your gender is Male\n"
     ]
    }
   ],
   "source": [
    "age_name(age = 30,name = \"umair\") # keyword argument"
   ]
  },
  {
   "cell_type": "code",
   "execution_count": 20,
   "metadata": {},
   "outputs": [
    {
     "name": "stdout",
     "output_type": "stream",
     "text": [
      "your name is jose\n",
      "your age is 10\n",
      "your gender is Male\n"
     ]
    }
   ],
   "source": [
    "age_name(\"jose\",10)"
   ]
  },
  {
   "cell_type": "code",
   "execution_count": 22,
   "metadata": {},
   "outputs": [
    {
     "name": "stdout",
     "output_type": "stream",
     "text": [
      "your name is jose\n",
      "your age is 0\n",
      "your gender is female\n"
     ]
    }
   ],
   "source": [
    "age_name(age = 0,name = \"jose\",gender=\"female\") # keyword argument"
   ]
  },
  {
   "cell_type": "code",
   "execution_count": 23,
   "metadata": {},
   "outputs": [
    {
     "name": "stdout",
     "output_type": "stream",
     "text": [
      "your name is umair\n",
      "your age is 25\n",
      "your gender is grownMAle\n"
     ]
    }
   ],
   "source": [
    "age_name(\"umair\",25,\"grownMAle\")"
   ]
  },
  {
   "cell_type": "code",
   "execution_count": 25,
   "metadata": {},
   "outputs": [
    {
     "name": "stdout",
     "output_type": "stream",
     "text": [
      "bmw\n",
      "red\n",
      "car\n"
     ]
    }
   ],
   "source": [
    "## make a function with parameter model and colorcolor and by default write car         as third parameter  \n",
    "\n",
    "def car(model,color,obj = \"car\"):\n",
    "    print(model)\n",
    "    print(color)\n",
    "    print(\"car\")\n",
    "car(\"bmw\",\"red\")\n"
   ]
  },
  {
   "cell_type": "code",
   "execution_count": 26,
   "metadata": {},
   "outputs": [],
   "source": [
    "def person(name,age, *jose):\n",
    "    print(name)\n",
    "    print(age)\n",
    "    for i in jose:\n",
    "        print(\"extra\",i)"
   ]
  },
  {
   "cell_type": "code",
   "execution_count": 28,
   "metadata": {},
   "outputs": [
    {
     "name": "stdout",
     "output_type": "stream",
     "text": [
      "jose\n",
      "82\n",
      "extra umair\n",
      "extra jose\n",
      "extra duck\n"
     ]
    }
   ],
   "source": [
    "person('jose',82, 'umair', 'jose', 'duck') # passing multiple positional argument to a single vaiable"
   ]
  },
  {
   "cell_type": "code",
   "execution_count": 29,
   "metadata": {},
   "outputs": [],
   "source": [
    "# passing multiple keyword argument to a single variable"
   ]
  },
  {
   "cell_type": "code",
   "execution_count": 32,
   "metadata": {},
   "outputs": [],
   "source": [
    "def person(name,age, *jose,**umair):\n",
    "    print(name)\n",
    "    print(age)\n",
    "    \n",
    "    print(jose)\n",
    "\n",
    "    print(umair)"
   ]
  },
  {
   "cell_type": "code",
   "execution_count": 34,
   "metadata": {},
   "outputs": [
    {
     "name": "stdout",
     "output_type": "stream",
     "text": [
      "duck\n",
      "45\n",
      "('abraham', 'jose')\n",
      "{'x': 100, 'apple': 'red', 'hshsh': 'hahahahahhaahahah'}\n"
     ]
    }
   ],
   "source": [
    "person('duck', '45', 'abraham', 'jose', x = 100, apple = 'red',hshsh = \"hahahahahhaahahah\")"
   ]
  },
  {
   "cell_type": "markdown",
   "metadata": {},
   "source": [
    "make a function that wil take color height and width of room, additionally it should print corners of room "
   ]
  },
  {
   "cell_type": "code",
   "execution_count": 36,
   "metadata": {},
   "outputs": [],
   "source": [
    "def room(color,height,width,*add):\n",
    "    print(color)\n",
    "    print(height)\n",
    "    print(width)\n",
    "    for i in add:\n",
    "        print(i,'addtional')\n"
   ]
  },
  {
   "cell_type": "code",
   "execution_count": 37,
   "metadata": {},
   "outputs": [],
   "source": [
    "# make afucntion which will take name of shop as fixed,  as manay number of products as can in order, and extra instruction additiona"
   ]
  },
  {
   "cell_type": "code",
   "execution_count": 48,
   "metadata": {},
   "outputs": [],
   "source": [
    "def products(name,*things,**additional):\n",
    "    print(name)\n",
    "    print(\"in yoru order you have\")\n",
    "    for i in things:\n",
    "        print(\"\\t\",i)\n",
    "    \n",
    "    for i,j in additional.items():\n",
    "        print(f\"{i} you have {j}\")"
   ]
  },
  {
   "cell_type": "code",
   "execution_count": 47,
   "metadata": {},
   "outputs": [
    {
     "name": "stdout",
     "output_type": "stream",
     "text": [
      "KFC\n",
      "in yoru order you have\n",
      "\t kruch burger\n",
      "\t fries\n",
      "\t fish burger\n",
      "tomato you have 2\n",
      "extra_chese you have 5\n"
     ]
    }
   ],
   "source": [
    "products(\"KFC\",\"kruch burger\",\"fries\",\"fish burger\",tomato=2,extra_chese = 5)"
   ]
  },
  {
   "cell_type": "code",
   "execution_count": 49,
   "metadata": {},
   "outputs": [
    {
     "name": "stdout",
     "output_type": "stream",
     "text": [
      "AFC\n",
      "in yoru order you have\n",
      "\t kruch burger\n",
      "\t fries\n",
      "\t pizza\n"
     ]
    }
   ],
   "source": [
    "products(\"AFC\",\"kruch burger\",\"fries\",\"pizza\")"
   ]
  },
  {
   "cell_type": "code",
   "execution_count": null,
   "metadata": {},
   "outputs": [],
   "source": []
  }
 ],
 "metadata": {
  "kernelspec": {
   "display_name": "Python 3",
   "language": "python",
   "name": "python3"
  },
  "language_info": {
   "codemirror_mode": {
    "name": "ipython",
    "version": 3
   },
   "file_extension": ".py",
   "mimetype": "text/x-python",
   "name": "python",
   "nbconvert_exporter": "python",
   "pygments_lexer": "ipython3",
   "version": "3.11.7"
  }
 },
 "nbformat": 4,
 "nbformat_minor": 2
}
