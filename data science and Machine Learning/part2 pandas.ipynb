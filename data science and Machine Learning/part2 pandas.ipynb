{
 "cells": [
  {
   "cell_type": "code",
   "execution_count": 10,
   "metadata": {},
   "outputs": [],
   "source": [
    "# make a list of 10 fruits\n",
    "\n",
    "fruits = [\"apple\", \"banana\", \"cherry\", \"orange\", \"mango\", \"pineapple\", \"grape\", \"kiwi\", \"melon\", \"watermelon\"]\n",
    "\n",
    "# make a list of their respective colors\n",
    "\n",
    "colors = [\"red\", \"orange\", \"yellow\", \"green\", \"blue\", \"indigo\", \"violet\", \"purple\", \"pink\", \"lightblue\"]\n",
    "\n",
    "# make a list of their respective sizes\n",
    "\n",
    "sizes = [\"medium\", \"large\", \"small\", \"medium\", \"large\", \"medium\", \"large\", \"medium\", \"large\", \"small\"]"
   ]
  },
  {
   "cell_type": "code",
   "execution_count": 11,
   "metadata": {},
   "outputs": [],
   "source": [
    "# how to insert these lists into a dict\n",
    "\n",
    "#make emtoy dictionary\n",
    "\n",
    "fruits_dict = {}\n",
    "\n",
    "fruits_dict[\"fruit\"] = fruits\n",
    "\n",
    "fruits_dict['colors'] = colors\n",
    "\n",
    "fruits_dict['sizes'] = sizes\n",
    "\n",
    "\n",
    "fruits_dict[\"time\"] = [5,2,3,4,5,6,7,8,2,9]\n",
    "\n",
    "fruits_dict['price'] = [100,200,500,400,700,200,31,23,99,100]"
   ]
  },
  {
   "cell_type": "code",
   "execution_count": 12,
   "metadata": {},
   "outputs": [
    {
     "data": {
      "text/plain": [
       "{'fruit': ['apple',\n",
       "  'banana',\n",
       "  'cherry',\n",
       "  'orange',\n",
       "  'mango',\n",
       "  'pineapple',\n",
       "  'grape',\n",
       "  'kiwi',\n",
       "  'melon',\n",
       "  'watermelon'],\n",
       " 'colors': ['red',\n",
       "  'orange',\n",
       "  'yellow',\n",
       "  'green',\n",
       "  'blue',\n",
       "  'indigo',\n",
       "  'violet',\n",
       "  'purple',\n",
       "  'pink',\n",
       "  'lightblue'],\n",
       " 'sizes': ['medium',\n",
       "  'large',\n",
       "  'small',\n",
       "  'medium',\n",
       "  'large',\n",
       "  'medium',\n",
       "  'large',\n",
       "  'medium',\n",
       "  'large',\n",
       "  'small'],\n",
       " 'time': [5, 2, 3, 4, 5, 6, 7, 8, 2, 9],\n",
       " 'price': [100, 200, 500, 400, 700, 200, 31, 23, 99, 100]}"
      ]
     },
     "execution_count": 12,
     "metadata": {},
     "output_type": "execute_result"
    }
   ],
   "source": [
    "fruits_dict"
   ]
  },
  {
   "cell_type": "code",
   "execution_count": 13,
   "metadata": {},
   "outputs": [],
   "source": [
    "import pandas as pd"
   ]
  },
  {
   "cell_type": "code",
   "execution_count": 14,
   "metadata": {},
   "outputs": [],
   "source": [
    "data = pd.DataFrame(fruits_dict)"
   ]
  },
  {
   "cell_type": "code",
   "execution_count": 15,
   "metadata": {},
   "outputs": [
    {
     "data": {
      "text/html": [
       "<div>\n",
       "<style scoped>\n",
       "    .dataframe tbody tr th:only-of-type {\n",
       "        vertical-align: middle;\n",
       "    }\n",
       "\n",
       "    .dataframe tbody tr th {\n",
       "        vertical-align: top;\n",
       "    }\n",
       "\n",
       "    .dataframe thead th {\n",
       "        text-align: right;\n",
       "    }\n",
       "</style>\n",
       "<table border=\"1\" class=\"dataframe\">\n",
       "  <thead>\n",
       "    <tr style=\"text-align: right;\">\n",
       "      <th></th>\n",
       "      <th>fruit</th>\n",
       "      <th>colors</th>\n",
       "      <th>sizes</th>\n",
       "      <th>time</th>\n",
       "      <th>price</th>\n",
       "    </tr>\n",
       "  </thead>\n",
       "  <tbody>\n",
       "    <tr>\n",
       "      <th>0</th>\n",
       "      <td>apple</td>\n",
       "      <td>red</td>\n",
       "      <td>medium</td>\n",
       "      <td>5</td>\n",
       "      <td>100</td>\n",
       "    </tr>\n",
       "    <tr>\n",
       "      <th>1</th>\n",
       "      <td>banana</td>\n",
       "      <td>orange</td>\n",
       "      <td>large</td>\n",
       "      <td>2</td>\n",
       "      <td>200</td>\n",
       "    </tr>\n",
       "    <tr>\n",
       "      <th>2</th>\n",
       "      <td>cherry</td>\n",
       "      <td>yellow</td>\n",
       "      <td>small</td>\n",
       "      <td>3</td>\n",
       "      <td>500</td>\n",
       "    </tr>\n",
       "    <tr>\n",
       "      <th>3</th>\n",
       "      <td>orange</td>\n",
       "      <td>green</td>\n",
       "      <td>medium</td>\n",
       "      <td>4</td>\n",
       "      <td>400</td>\n",
       "    </tr>\n",
       "    <tr>\n",
       "      <th>4</th>\n",
       "      <td>mango</td>\n",
       "      <td>blue</td>\n",
       "      <td>large</td>\n",
       "      <td>5</td>\n",
       "      <td>700</td>\n",
       "    </tr>\n",
       "    <tr>\n",
       "      <th>5</th>\n",
       "      <td>pineapple</td>\n",
       "      <td>indigo</td>\n",
       "      <td>medium</td>\n",
       "      <td>6</td>\n",
       "      <td>200</td>\n",
       "    </tr>\n",
       "    <tr>\n",
       "      <th>6</th>\n",
       "      <td>grape</td>\n",
       "      <td>violet</td>\n",
       "      <td>large</td>\n",
       "      <td>7</td>\n",
       "      <td>31</td>\n",
       "    </tr>\n",
       "    <tr>\n",
       "      <th>7</th>\n",
       "      <td>kiwi</td>\n",
       "      <td>purple</td>\n",
       "      <td>medium</td>\n",
       "      <td>8</td>\n",
       "      <td>23</td>\n",
       "    </tr>\n",
       "    <tr>\n",
       "      <th>8</th>\n",
       "      <td>melon</td>\n",
       "      <td>pink</td>\n",
       "      <td>large</td>\n",
       "      <td>2</td>\n",
       "      <td>99</td>\n",
       "    </tr>\n",
       "    <tr>\n",
       "      <th>9</th>\n",
       "      <td>watermelon</td>\n",
       "      <td>lightblue</td>\n",
       "      <td>small</td>\n",
       "      <td>9</td>\n",
       "      <td>100</td>\n",
       "    </tr>\n",
       "  </tbody>\n",
       "</table>\n",
       "</div>"
      ],
      "text/plain": [
       "        fruit     colors   sizes  time  price\n",
       "0       apple        red  medium     5    100\n",
       "1      banana     orange   large     2    200\n",
       "2      cherry     yellow   small     3    500\n",
       "3      orange      green  medium     4    400\n",
       "4       mango       blue   large     5    700\n",
       "5   pineapple     indigo  medium     6    200\n",
       "6       grape     violet   large     7     31\n",
       "7        kiwi     purple  medium     8     23\n",
       "8       melon       pink   large     2     99\n",
       "9  watermelon  lightblue   small     9    100"
      ]
     },
     "execution_count": 15,
     "metadata": {},
     "output_type": "execute_result"
    }
   ],
   "source": [
    "data"
   ]
  },
  {
   "cell_type": "code",
   "execution_count": 17,
   "metadata": {},
   "outputs": [
    {
     "data": {
      "text/html": [
       "<div>\n",
       "<style scoped>\n",
       "    .dataframe tbody tr th:only-of-type {\n",
       "        vertical-align: middle;\n",
       "    }\n",
       "\n",
       "    .dataframe tbody tr th {\n",
       "        vertical-align: top;\n",
       "    }\n",
       "\n",
       "    .dataframe thead th {\n",
       "        text-align: right;\n",
       "    }\n",
       "</style>\n",
       "<table border=\"1\" class=\"dataframe\">\n",
       "  <thead>\n",
       "    <tr style=\"text-align: right;\">\n",
       "      <th></th>\n",
       "      <th>fruit</th>\n",
       "      <th>colors</th>\n",
       "      <th>sizes</th>\n",
       "      <th>time</th>\n",
       "      <th>price</th>\n",
       "    </tr>\n",
       "  </thead>\n",
       "  <tbody>\n",
       "    <tr>\n",
       "      <th>0</th>\n",
       "      <td>apple</td>\n",
       "      <td>red</td>\n",
       "      <td>medium</td>\n",
       "      <td>5</td>\n",
       "      <td>100</td>\n",
       "    </tr>\n",
       "    <tr>\n",
       "      <th>6</th>\n",
       "      <td>grape</td>\n",
       "      <td>violet</td>\n",
       "      <td>large</td>\n",
       "      <td>7</td>\n",
       "      <td>31</td>\n",
       "    </tr>\n",
       "    <tr>\n",
       "      <th>7</th>\n",
       "      <td>kiwi</td>\n",
       "      <td>purple</td>\n",
       "      <td>medium</td>\n",
       "      <td>8</td>\n",
       "      <td>23</td>\n",
       "    </tr>\n",
       "    <tr>\n",
       "      <th>8</th>\n",
       "      <td>melon</td>\n",
       "      <td>pink</td>\n",
       "      <td>large</td>\n",
       "      <td>2</td>\n",
       "      <td>99</td>\n",
       "    </tr>\n",
       "    <tr>\n",
       "      <th>9</th>\n",
       "      <td>watermelon</td>\n",
       "      <td>lightblue</td>\n",
       "      <td>small</td>\n",
       "      <td>9</td>\n",
       "      <td>100</td>\n",
       "    </tr>\n",
       "  </tbody>\n",
       "</table>\n",
       "</div>"
      ],
      "text/plain": [
       "        fruit     colors   sizes  time  price\n",
       "0       apple        red  medium     5    100\n",
       "6       grape     violet   large     7     31\n",
       "7        kiwi     purple  medium     8     23\n",
       "8       melon       pink   large     2     99\n",
       "9  watermelon  lightblue   small     9    100"
      ]
     },
     "execution_count": 17,
     "metadata": {},
     "output_type": "execute_result"
    }
   ],
   "source": [
    "data[data['price']<200]"
   ]
  },
  {
   "cell_type": "code",
   "execution_count": 18,
   "metadata": {},
   "outputs": [
    {
     "data": {
      "text/plain": [
       "<Axes: >"
      ]
     },
     "execution_count": 18,
     "metadata": {},
     "output_type": "execute_result"
    },
    {
     "data": {
      "image/png": "[encoded data removed]",
      "text/plain": [
       "<Figure size 640x480 with 1 Axes>"
      ]
     },
     "metadata": {},
     "output_type": "display_data"
    }
   ],
   "source": [
    "data.plot()"
   ]
  },
  {
   "cell_type": "code",
   "execution_count": 19,
   "metadata": {},
   "outputs": [],
   "source": [
    "x = data['fruit']\n",
    "y = data['time']"
   ]
  },
  {
   "cell_type": "code",
   "execution_count": 20,
   "metadata": {},
   "outputs": [],
   "source": [
    "import matplotlib.pyplot as plt\n"
   ]
  },
  {
   "cell_type": "code",
   "execution_count": 26,
   "metadata": {},
   "outputs": [
    {
     "data": {
      "text/plain": [
       "Text(0.5, 1.0, 'the graph between fruts and their ripenign time')"
      ]
     },
     "execution_count": 26,
     "metadata": {},
     "output_type": "execute_result"
    },
    {
     "data": {
      "image/png": "[encoded data removed]",
      "text/plain": [
       "<Figure size 1000x600 with 1 Axes>"
      ]
     },
     "metadata": {},
     "output_type": "display_data"
    }
   ],
   "source": [
    "plt.figure(figsize=(10,6))\n",
    "plt.bar(x,y)\n",
    "plt.title('the graph between fruts and their ripenign time')"
   ]
  },
  {
   "cell_type": "code",
   "execution_count": 27,
   "metadata": {},
   "outputs": [
    {
     "data": {
      "text/html": [
       "<div>\n",
       "<style scoped>\n",
       "    .dataframe tbody tr th:only-of-type {\n",
       "        vertical-align: middle;\n",
       "    }\n",
       "\n",
       "    .dataframe tbody tr th {\n",
       "        vertical-align: top;\n",
       "    }\n",
       "\n",
       "    .dataframe thead th {\n",
       "        text-align: right;\n",
       "    }\n",
       "</style>\n",
       "<table border=\"1\" class=\"dataframe\">\n",
       "  <thead>\n",
       "    <tr style=\"text-align: right;\">\n",
       "      <th></th>\n",
       "      <th>fruit</th>\n",
       "      <th>colors</th>\n",
       "      <th>sizes</th>\n",
       "      <th>time</th>\n",
       "      <th>price</th>\n",
       "    </tr>\n",
       "  </thead>\n",
       "  <tbody>\n",
       "    <tr>\n",
       "      <th>0</th>\n",
       "      <td>apple</td>\n",
       "      <td>red</td>\n",
       "      <td>medium</td>\n",
       "      <td>5</td>\n",
       "      <td>100</td>\n",
       "    </tr>\n",
       "    <tr>\n",
       "      <th>1</th>\n",
       "      <td>banana</td>\n",
       "      <td>orange</td>\n",
       "      <td>large</td>\n",
       "      <td>2</td>\n",
       "      <td>200</td>\n",
       "    </tr>\n",
       "    <tr>\n",
       "      <th>2</th>\n",
       "      <td>cherry</td>\n",
       "      <td>yellow</td>\n",
       "      <td>small</td>\n",
       "      <td>3</td>\n",
       "      <td>500</td>\n",
       "    </tr>\n",
       "    <tr>\n",
       "      <th>3</th>\n",
       "      <td>orange</td>\n",
       "      <td>green</td>\n",
       "      <td>medium</td>\n",
       "      <td>4</td>\n",
       "      <td>400</td>\n",
       "    </tr>\n",
       "    <tr>\n",
       "      <th>4</th>\n",
       "      <td>mango</td>\n",
       "      <td>blue</td>\n",
       "      <td>large</td>\n",
       "      <td>5</td>\n",
       "      <td>700</td>\n",
       "    </tr>\n",
       "    <tr>\n",
       "      <th>5</th>\n",
       "      <td>pineapple</td>\n",
       "      <td>indigo</td>\n",
       "      <td>medium</td>\n",
       "      <td>6</td>\n",
       "      <td>200</td>\n",
       "    </tr>\n",
       "    <tr>\n",
       "      <th>6</th>\n",
       "      <td>grape</td>\n",
       "      <td>violet</td>\n",
       "      <td>large</td>\n",
       "      <td>7</td>\n",
       "      <td>31</td>\n",
       "    </tr>\n",
       "    <tr>\n",
       "      <th>7</th>\n",
       "      <td>kiwi</td>\n",
       "      <td>purple</td>\n",
       "      <td>medium</td>\n",
       "      <td>8</td>\n",
       "      <td>23</td>\n",
       "    </tr>\n",
       "    <tr>\n",
       "      <th>8</th>\n",
       "      <td>melon</td>\n",
       "      <td>pink</td>\n",
       "      <td>large</td>\n",
       "      <td>2</td>\n",
       "      <td>99</td>\n",
       "    </tr>\n",
       "    <tr>\n",
       "      <th>9</th>\n",
       "      <td>watermelon</td>\n",
       "      <td>lightblue</td>\n",
       "      <td>small</td>\n",
       "      <td>9</td>\n",
       "      <td>100</td>\n",
       "    </tr>\n",
       "  </tbody>\n",
       "</table>\n",
       "</div>"
      ],
      "text/plain": [
       "        fruit     colors   sizes  time  price\n",
       "0       apple        red  medium     5    100\n",
       "1      banana     orange   large     2    200\n",
       "2      cherry     yellow   small     3    500\n",
       "3      orange      green  medium     4    400\n",
       "4       mango       blue   large     5    700\n",
       "5   pineapple     indigo  medium     6    200\n",
       "6       grape     violet   large     7     31\n",
       "7        kiwi     purple  medium     8     23\n",
       "8       melon       pink   large     2     99\n",
       "9  watermelon  lightblue   small     9    100"
      ]
     },
     "execution_count": 27,
     "metadata": {},
     "output_type": "execute_result"
    }
   ],
   "source": [
    "data"
   ]
  },
  {
   "cell_type": "code",
   "execution_count": 28,
   "metadata": {},
   "outputs": [],
   "source": [
    "y = data['price']\n",
    "x = data['fruit']"
   ]
  },
  {
   "cell_type": "code",
   "execution_count": 35,
   "metadata": {},
   "outputs": [
    {
     "data": {
      "text/plain": [
       "Text(0.5, 1.0, 'the graph between fruts and their price')"
      ]
     },
     "execution_count": 35,
     "metadata": {},
     "output_type": "execute_result"
    },
    {
     "data": {
      "image/png": "[encoded data removed]",
      "text/plain": [
       "<Figure size 1000x600 with 1 Axes>"
      ]
     },
     "metadata": {},
     "output_type": "display_data"
    }
   ],
   "source": [
    "plt.figure(figsize=(10,6))\n",
    "plt.bar(x,y,color='pink')\n",
    "plt.title('the graph between fruts and their price')"
   ]
  },
  {
   "cell_type": "code",
   "execution_count": 36,
   "metadata": {},
   "outputs": [
    {
     "data": {
      "text/html": [
       "<div>\n",
       "<style scoped>\n",
       "    .dataframe tbody tr th:only-of-type {\n",
       "        vertical-align: middle;\n",
       "    }\n",
       "\n",
       "    .dataframe tbody tr th {\n",
       "        vertical-align: top;\n",
       "    }\n",
       "\n",
       "    .dataframe thead th {\n",
       "        text-align: right;\n",
       "    }\n",
       "</style>\n",
       "<table border=\"1\" class=\"dataframe\">\n",
       "  <thead>\n",
       "    <tr style=\"text-align: right;\">\n",
       "      <th></th>\n",
       "      <th>fruit</th>\n",
       "      <th>colors</th>\n",
       "      <th>sizes</th>\n",
       "      <th>time</th>\n",
       "      <th>price</th>\n",
       "      <th>new_price</th>\n",
       "    </tr>\n",
       "  </thead>\n",
       "  <tbody>\n",
       "    <tr>\n",
       "      <th>0</th>\n",
       "      <td>apple</td>\n",
       "      <td>red</td>\n",
       "      <td>medium</td>\n",
       "      <td>5</td>\n",
       "      <td>100</td>\n",
       "      <td>115.00</td>\n",
       "    </tr>\n",
       "    <tr>\n",
       "      <th>1</th>\n",
       "      <td>banana</td>\n",
       "      <td>orange</td>\n",
       "      <td>large</td>\n",
       "      <td>2</td>\n",
       "      <td>200</td>\n",
       "      <td>230.00</td>\n",
       "    </tr>\n",
       "    <tr>\n",
       "      <th>2</th>\n",
       "      <td>cherry</td>\n",
       "      <td>yellow</td>\n",
       "      <td>small</td>\n",
       "      <td>3</td>\n",
       "      <td>500</td>\n",
       "      <td>575.00</td>\n",
       "    </tr>\n",
       "    <tr>\n",
       "      <th>3</th>\n",
       "      <td>orange</td>\n",
       "      <td>green</td>\n",
       "      <td>medium</td>\n",
       "      <td>4</td>\n",
       "      <td>400</td>\n",
       "      <td>460.00</td>\n",
       "    </tr>\n",
       "    <tr>\n",
       "      <th>4</th>\n",
       "      <td>mango</td>\n",
       "      <td>blue</td>\n",
       "      <td>large</td>\n",
       "      <td>5</td>\n",
       "      <td>700</td>\n",
       "      <td>805.00</td>\n",
       "    </tr>\n",
       "    <tr>\n",
       "      <th>5</th>\n",
       "      <td>pineapple</td>\n",
       "      <td>indigo</td>\n",
       "      <td>medium</td>\n",
       "      <td>6</td>\n",
       "      <td>200</td>\n",
       "      <td>230.00</td>\n",
       "    </tr>\n",
       "    <tr>\n",
       "      <th>6</th>\n",
       "      <td>grape</td>\n",
       "      <td>violet</td>\n",
       "      <td>large</td>\n",
       "      <td>7</td>\n",
       "      <td>31</td>\n",
       "      <td>35.65</td>\n",
       "    </tr>\n",
       "    <tr>\n",
       "      <th>7</th>\n",
       "      <td>kiwi</td>\n",
       "      <td>purple</td>\n",
       "      <td>medium</td>\n",
       "      <td>8</td>\n",
       "      <td>23</td>\n",
       "      <td>26.45</td>\n",
       "    </tr>\n",
       "    <tr>\n",
       "      <th>8</th>\n",
       "      <td>melon</td>\n",
       "      <td>pink</td>\n",
       "      <td>large</td>\n",
       "      <td>2</td>\n",
       "      <td>99</td>\n",
       "      <td>113.85</td>\n",
       "    </tr>\n",
       "    <tr>\n",
       "      <th>9</th>\n",
       "      <td>watermelon</td>\n",
       "      <td>lightblue</td>\n",
       "      <td>small</td>\n",
       "      <td>9</td>\n",
       "      <td>100</td>\n",
       "      <td>115.00</td>\n",
       "    </tr>\n",
       "  </tbody>\n",
       "</table>\n",
       "</div>"
      ],
      "text/plain": [
       "        fruit     colors   sizes  time  price  new_price\n",
       "0       apple        red  medium     5    100     115.00\n",
       "1      banana     orange   large     2    200     230.00\n",
       "2      cherry     yellow   small     3    500     575.00\n",
       "3      orange      green  medium     4    400     460.00\n",
       "4       mango       blue   large     5    700     805.00\n",
       "5   pineapple     indigo  medium     6    200     230.00\n",
       "6       grape     violet   large     7     31      35.65\n",
       "7        kiwi     purple  medium     8     23      26.45\n",
       "8       melon       pink   large     2     99     113.85\n",
       "9  watermelon  lightblue   small     9    100     115.00"
      ]
     },
     "execution_count": 36,
     "metadata": {},
     "output_type": "execute_result"
    }
   ],
   "source": [
    "# i want to increase prices to 15 percent and i want ot maek a new colum\n",
    "# a*0.15 + a\n",
    "\n",
    "data['new_price'] = data['price']*0.15 + data['price']\n",
    "data"
   ]
  },
  {
   "cell_type": "code",
   "execution_count": 37,
   "metadata": {},
   "outputs": [],
   "source": [
    "data.to_csv('food_prices.csv')"
   ]
  },
  {
   "cell_type": "code",
   "execution_count": null,
   "metadata": {},
   "outputs": [],
   "source": []
  }
 ],
 "metadata": {
  "kernelspec": {
   "display_name": "Python 3",
   "language": "python",
   "name": "python3"
  },
  "language_info": {
   "codemirror_mode": {
    "name": "ipython",
    "version": 3
   },
   "file_extension": ".py",
   "mimetype": "text/x-python",
   "name": "python",
   "nbconvert_exporter": "python",
   "pygments_lexer": "ipython3",
   "version": "3.11.9"
  }
 },
 "nbformat": 4,
 "nbformat_minor": 2
}
