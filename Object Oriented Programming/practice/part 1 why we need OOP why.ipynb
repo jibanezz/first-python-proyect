{
 "cells": [
  {
   "cell_type": "code",
   "execution_count": 2,
   "metadata": {},
   "outputs": [
    {
     "name": "stdout",
     "output_type": "stream",
     "text": [
      "<class 'str'>\n"
     ]
    }
   ],
   "source": [
    "print(type('jose'))"
   ]
  },
  {
   "cell_type": "code",
   "execution_count": 5,
   "metadata": {},
   "outputs": [
    {
     "name": "stdout",
     "output_type": "stream",
     "text": [
      "<class 'int'>\n"
     ]
    }
   ],
   "source": [
    "print(type(199))"
   ]
  },
  {
   "cell_type": "code",
   "execution_count": 6,
   "metadata": {},
   "outputs": [
    {
     "name": "stdout",
     "output_type": "stream",
     "text": [
      "<class 'list'>\n"
     ]
    }
   ],
   "source": [
    "print(type([]))"
   ]
  },
  {
   "cell_type": "code",
   "execution_count": 8,
   "metadata": {},
   "outputs": [
    {
     "data": {
      "text/plain": [
       "['__add__',\n",
       " '__class__',\n",
       " '__contains__',\n",
       " '__delattr__',\n",
       " '__dir__',\n",
       " '__doc__',\n",
       " '__eq__',\n",
       " '__format__',\n",
       " '__ge__',\n",
       " '__getattribute__',\n",
       " '__getitem__',\n",
       " '__getnewargs__',\n",
       " '__getstate__',\n",
       " '__gt__',\n",
       " '__hash__',\n",
       " '__init__',\n",
       " '__init_subclass__',\n",
       " '__iter__',\n",
       " '__le__',\n",
       " '__len__',\n",
       " '__lt__',\n",
       " '__mod__',\n",
       " '__mul__',\n",
       " '__ne__',\n",
       " '__new__',\n",
       " '__reduce__',\n",
       " '__reduce_ex__',\n",
       " '__repr__',\n",
       " '__rmod__',\n",
       " '__rmul__',\n",
       " '__setattr__',\n",
       " '__sizeof__',\n",
       " '__str__',\n",
       " '__subclasshook__',\n",
       " 'capitalize',\n",
       " 'casefold',\n",
       " 'center',\n",
       " 'count',\n",
       " 'encode',\n",
       " 'endswith',\n",
       " 'expandtabs',\n",
       " 'find',\n",
       " 'format',\n",
       " 'format_map',\n",
       " 'index',\n",
       " 'isalnum',\n",
       " 'isalpha',\n",
       " 'isascii',\n",
       " 'isdecimal',\n",
       " 'isdigit',\n",
       " 'isidentifier',\n",
       " 'islower',\n",
       " 'isnumeric',\n",
       " 'isprintable',\n",
       " 'isspace',\n",
       " 'istitle',\n",
       " 'isupper',\n",
       " 'join',\n",
       " 'ljust',\n",
       " 'lower',\n",
       " 'lstrip',\n",
       " 'maketrans',\n",
       " 'partition',\n",
       " 'removeprefix',\n",
       " 'removesuffix',\n",
       " 'replace',\n",
       " 'rfind',\n",
       " 'rindex',\n",
       " 'rjust',\n",
       " 'rpartition',\n",
       " 'rsplit',\n",
       " 'rstrip',\n",
       " 'split',\n",
       " 'splitlines',\n",
       " 'startswith',\n",
       " 'strip',\n",
       " 'swapcase',\n",
       " 'title',\n",
       " 'translate',\n",
       " 'upper',\n",
       " 'zfill']"
      ]
     },
     "execution_count": 8,
     "metadata": {},
     "output_type": "execute_result"
    }
   ],
   "source": [
    "dir('jose')"
   ]
  },
  {
   "cell_type": "code",
   "execution_count": 10,
   "metadata": {},
   "outputs": [
    {
     "data": {
      "text/plain": [
       "'JOSE'"
      ]
     },
     "execution_count": 10,
     "metadata": {},
     "output_type": "execute_result"
    }
   ],
   "source": [
    "'jose'.upper()"
   ]
  },
  {
   "cell_type": "code",
   "execution_count": 11,
   "metadata": {},
   "outputs": [],
   "source": [
    "# list has function append but string object has its own functions"
   ]
  },
  {
   "cell_type": "code",
   "execution_count": 14,
   "metadata": {},
   "outputs": [],
   "source": [
    "class Person:\n",
    "    def __init__(self,name,height):\n",
    "        self.name = name\n",
    "        self.height = height\n",
    "    \n",
    "    def print_name(self):\n",
    "        print(self.name)"
   ]
  },
  {
   "cell_type": "code",
   "execution_count": 17,
   "metadata": {},
   "outputs": [
    {
     "name": "stdout",
     "output_type": "stream",
     "text": [
      "<class '__main__.Person'>\n"
     ]
    }
   ],
   "source": [
    "a = Person('andy',3)\n",
    "print(type(a))"
   ]
  },
  {
   "cell_type": "code",
   "execution_count": 22,
   "metadata": {},
   "outputs": [
    {
     "name": "stdout",
     "output_type": "stream",
     "text": [
      "Collecting seaborn\n",
      "  Downloading seaborn-0.13.2-py3-none-any.whl.metadata (5.4 kB)\n",
      "Requirement already satisfied: numpy!=1.24.0,>=1.20 in c:\\users\\user\\appdata\\local\\packages\\pythonsoftwarefoundation.python.3.11_qbz5n2kfra8p0\\localcache\\local-packages\\python311\\site-packages (from seaborn) (1.26.4)\n",
      "Collecting pandas>=1.2 (from seaborn)\n",
      "  Downloading pandas-2.2.1-cp311-cp311-win_amd64.whl.metadata (19 kB)\n",
      "Collecting matplotlib!=3.6.1,>=3.4 (from seaborn)\n",
      "  Downloading matplotlib-3.8.3-cp311-cp311-win_amd64.whl.metadata (5.9 kB)\n",
      "Collecting contourpy>=1.0.1 (from matplotlib!=3.6.1,>=3.4->seaborn)\n",
      "  Downloading contourpy-1.2.0-cp311-cp311-win_amd64.whl.metadata (5.8 kB)\n",
      "Collecting cycler>=0.10 (from matplotlib!=3.6.1,>=3.4->seaborn)\n",
      "  Downloading cycler-0.12.1-py3-none-any.whl.metadata (3.8 kB)\n",
      "Collecting fonttools>=4.22.0 (from matplotlib!=3.6.1,>=3.4->seaborn)\n",
      "  Downloading fonttools-4.49.0-cp311-cp311-win_amd64.whl.metadata (162 kB)\n",
      "     ---------------------------------------- 0.0/162.3 kB ? eta -:--:--\n",
      "     -------------------------------------- 162.3/162.3 kB 4.9 MB/s eta 0:00:00\n",
      "Collecting kiwisolver>=1.3.1 (from matplotlib!=3.6.1,>=3.4->seaborn)\n",
      "  Downloading kiwisolver-1.4.5-cp311-cp311-win_amd64.whl.metadata (6.5 kB)\n",
      "Requirement already satisfied: packaging>=20.0 in c:\\users\\user\\appdata\\local\\packages\\pythonsoftwarefoundation.python.3.11_qbz5n2kfra8p0\\localcache\\local-packages\\python311\\site-packages (from matplotlib!=3.6.1,>=3.4->seaborn) (23.2)\n",
      "Collecting pillow>=8 (from matplotlib!=3.6.1,>=3.4->seaborn)\n",
      "  Downloading pillow-10.2.0-cp311-cp311-win_amd64.whl.metadata (9.9 kB)\n",
      "Collecting pyparsing>=2.3.1 (from matplotlib!=3.6.1,>=3.4->seaborn)\n",
      "  Downloading pyparsing-3.1.1-py3-none-any.whl.metadata (5.1 kB)\n",
      "Requirement already satisfied: python-dateutil>=2.7 in c:\\users\\user\\appdata\\local\\packages\\pythonsoftwarefoundation.python.3.11_qbz5n2kfra8p0\\localcache\\local-packages\\python311\\site-packages (from matplotlib!=3.6.1,>=3.4->seaborn) (2.8.2)\n",
      "Collecting pytz>=2020.1 (from pandas>=1.2->seaborn)\n",
      "  Downloading pytz-2024.1-py2.py3-none-any.whl.metadata (22 kB)\n",
      "Collecting tzdata>=2022.7 (from pandas>=1.2->seaborn)\n",
      "  Downloading tzdata-2024.1-py2.py3-none-any.whl.metadata (1.4 kB)\n",
      "Requirement already satisfied: six>=1.5 in c:\\users\\user\\appdata\\local\\packages\\pythonsoftwarefoundation.python.3.11_qbz5n2kfra8p0\\localcache\\local-packages\\python311\\site-packages (from python-dateutil>=2.7->matplotlib!=3.6.1,>=3.4->seaborn) (1.16.0)\n",
      "Downloading seaborn-0.13.2-py3-none-any.whl (294 kB)\n",
      "   ---------------------------------------- 0.0/294.9 kB ? eta -:--:--\n",
      "   --------------------------- ------------ 204.8/294.9 kB 6.3 MB/s eta 0:00:01\n",
      "   ---------------------------------------- 294.9/294.9 kB 6.2 MB/s eta 0:00:00\n",
      "Downloading matplotlib-3.8.3-cp311-cp311-win_amd64.whl (7.6 MB)\n",
      "   ---------------------------------------- 0.0/7.6 MB ? eta -:--:--\n",
      "    --------------------------------------- 0.2/7.6 MB 5.3 MB/s eta 0:00:02\n",
      "   -- ------------------------------------- 0.5/7.6 MB 6.3 MB/s eta 0:00:02\n",
      "   ---- ----------------------------------- 0.8/7.6 MB 6.4 MB/s eta 0:00:02\n",
      "   ----- ---------------------------------- 1.1/7.6 MB 6.1 MB/s eta 0:00:02\n",
      "   ------- -------------------------------- 1.4/7.6 MB 6.1 MB/s eta 0:00:02\n",
      "   -------- ------------------------------- 1.7/7.6 MB 6.2 MB/s eta 0:00:01\n",
      "   ---------- ----------------------------- 2.0/7.6 MB 6.2 MB/s eta 0:00:01\n",
      "   ----------- ---------------------------- 2.3/7.6 MB 6.4 MB/s eta 0:00:01\n",
      "   ------------- -------------------------- 2.5/7.6 MB 6.3 MB/s eta 0:00:01\n",
      "   -------------- ------------------------- 2.9/7.6 MB 6.3 MB/s eta 0:00:01\n",
      "   ---------------- ----------------------- 3.2/7.6 MB 6.3 MB/s eta 0:00:01\n",
      "   ----------------- ---------------------- 3.4/7.6 MB 6.3 MB/s eta 0:00:01\n",
      "   ------------------- -------------------- 3.7/7.6 MB 6.2 MB/s eta 0:00:01\n",
      "   --------------------- ------------------ 4.0/7.6 MB 6.3 MB/s eta 0:00:01\n",
      "   --------------------- ------------------ 4.2/7.6 MB 6.2 MB/s eta 0:00:01\n",
      "   ----------------------- ---------------- 4.4/7.6 MB 6.0 MB/s eta 0:00:01\n",
      "   ------------------------ --------------- 4.6/7.6 MB 5.9 MB/s eta 0:00:01\n",
      "   ------------------------- -------------- 4.9/7.6 MB 5.9 MB/s eta 0:00:01\n",
      "   --------------------------- ------------ 5.2/7.6 MB 5.9 MB/s eta 0:00:01\n",
      "   ---------------------------- ----------- 5.5/7.6 MB 6.0 MB/s eta 0:00:01\n",
      "   ------------------------------ --------- 5.9/7.6 MB 6.1 MB/s eta 0:00:01\n",
      "   -------------------------------- ------- 6.2/7.6 MB 6.1 MB/s eta 0:00:01\n",
      "   ---------------------------------- ----- 6.5/7.6 MB 6.1 MB/s eta 0:00:01\n",
      "   ----------------------------------- ---- 6.8/7.6 MB 6.2 MB/s eta 0:00:01\n",
      "   ------------------------------------- -- 7.2/7.6 MB 6.2 MB/s eta 0:00:01\n",
      "   ---------------------------------------  7.5/7.6 MB 6.2 MB/s eta 0:00:01\n",
      "   ---------------------------------------- 7.6/7.6 MB 6.2 MB/s eta 0:00:00\n",
      "Downloading pandas-2.2.1-cp311-cp311-win_amd64.whl (11.6 MB)\n",
      "   ---------------------------------------- 0.0/11.6 MB ? eta -:--:--\n",
      "    --------------------------------------- 0.2/11.6 MB 5.0 MB/s eta 0:00:03\n",
      "   -- ------------------------------------- 0.6/11.6 MB 6.2 MB/s eta 0:00:02\n",
      "   --- ------------------------------------ 0.9/11.6 MB 6.4 MB/s eta 0:00:02\n",
      "   ---- ----------------------------------- 1.2/11.6 MB 6.4 MB/s eta 0:00:02\n",
      "   ----- ---------------------------------- 1.5/11.6 MB 6.5 MB/s eta 0:00:02\n",
      "   ------ --------------------------------- 1.9/11.6 MB 6.6 MB/s eta 0:00:02\n",
      "   ------- -------------------------------- 2.1/11.6 MB 6.5 MB/s eta 0:00:02\n",
      "   -------- ------------------------------- 2.5/11.6 MB 6.6 MB/s eta 0:00:02\n",
      "   --------- ------------------------------ 2.9/11.6 MB 6.7 MB/s eta 0:00:02\n",
      "   ---------- ----------------------------- 3.1/11.6 MB 6.6 MB/s eta 0:00:02\n",
      "   ------------ --------------------------- 3.5/11.6 MB 6.7 MB/s eta 0:00:02\n",
      "   ------------- -------------------------- 3.9/11.6 MB 6.8 MB/s eta 0:00:02\n",
      "   -------------- ------------------------- 4.1/11.6 MB 6.8 MB/s eta 0:00:02\n",
      "   --------------- ------------------------ 4.5/11.6 MB 6.9 MB/s eta 0:00:02\n",
      "   ---------------- ----------------------- 4.9/11.6 MB 6.9 MB/s eta 0:00:01\n",
      "   ----------------- ---------------------- 5.2/11.6 MB 6.9 MB/s eta 0:00:01\n",
      "   ------------------ --------------------- 5.5/11.6 MB 6.9 MB/s eta 0:00:01\n",
      "   -------------------- ------------------- 5.8/11.6 MB 6.9 MB/s eta 0:00:01\n",
      "   --------------------- ------------------ 6.2/11.6 MB 6.8 MB/s eta 0:00:01\n",
      "   ---------------------- ----------------- 6.5/11.6 MB 7.0 MB/s eta 0:00:01\n",
      "   ----------------------- ---------------- 6.8/11.6 MB 6.8 MB/s eta 0:00:01\n",
      "   ------------------------ --------------- 7.2/11.6 MB 6.9 MB/s eta 0:00:01\n",
      "   ------------------------- -------------- 7.5/11.6 MB 6.9 MB/s eta 0:00:01\n",
      "   -------------------------- ------------- 7.8/11.6 MB 6.8 MB/s eta 0:00:01\n",
      "   ---------------------------- ----------- 8.2/11.6 MB 6.9 MB/s eta 0:00:01\n",
      "   ----------------------------- ---------- 8.5/11.6 MB 6.9 MB/s eta 0:00:01\n",
      "   ------------------------------ --------- 8.8/11.6 MB 6.9 MB/s eta 0:00:01\n",
      "   ------------------------------- -------- 9.1/11.6 MB 6.9 MB/s eta 0:00:01\n",
      "   -------------------------------- ------- 9.5/11.6 MB 7.0 MB/s eta 0:00:01\n",
      "   --------------------------------- ------ 9.9/11.6 MB 6.9 MB/s eta 0:00:01\n",
      "   ----------------------------------- ---- 10.2/11.6 MB 6.9 MB/s eta 0:00:01\n",
      "   ------------------------------------ --- 10.5/11.6 MB 7.0 MB/s eta 0:00:01\n",
      "   ------------------------------------- -- 10.9/11.6 MB 7.1 MB/s eta 0:00:01\n",
      "   -------------------------------------- - 11.2/11.6 MB 7.1 MB/s eta 0:00:01\n",
      "   ---------------------------------------  11.6/11.6 MB 7.0 MB/s eta 0:00:01\n",
      "   ---------------------------------------- 11.6/11.6 MB 7.0 MB/s eta 0:00:00\n",
      "Downloading contourpy-1.2.0-cp311-cp311-win_amd64.whl (187 kB)\n",
      "   ---------------------------------------- 0.0/187.6 kB ? eta -:--:--\n",
      "   ---------------------------------------- 187.6/187.6 kB 5.7 MB/s eta 0:00:00\n",
      "Downloading cycler-0.12.1-py3-none-any.whl (8.3 kB)\n",
      "Downloading fonttools-4.49.0-cp311-cp311-win_amd64.whl (2.2 MB)\n",
      "   ---------------------------------------- 0.0/2.2 MB ? eta -:--:--\n",
      "   ----- ---------------------------------- 0.3/2.2 MB 8.3 MB/s eta 0:00:01\n",
      "   ------------ --------------------------- 0.7/2.2 MB 8.2 MB/s eta 0:00:01\n",
      "   ------------------ --------------------- 1.0/2.2 MB 8.2 MB/s eta 0:00:01\n",
      "   ------------------------- -------------- 1.4/2.2 MB 7.9 MB/s eta 0:00:01\n",
      "   ------------------------------- -------- 1.7/2.2 MB 7.9 MB/s eta 0:00:01\n",
      "   -------------------------------------- - 2.1/2.2 MB 7.9 MB/s eta 0:00:01\n",
      "   ---------------------------------------- 2.2/2.2 MB 7.7 MB/s eta 0:00:00\n",
      "Downloading kiwisolver-1.4.5-cp311-cp311-win_amd64.whl (56 kB)\n",
      "   ---------------------------------------- 0.0/56.1 kB ? eta -:--:--\n",
      "   ---------------------------------------- 56.1/56.1 kB 2.9 MB/s eta 0:00:00\n",
      "Downloading pillow-10.2.0-cp311-cp311-win_amd64.whl (2.6 MB)\n",
      "   ---------------------------------------- 0.0/2.6 MB ? eta -:--:--\n",
      "   ----- ---------------------------------- 0.4/2.6 MB 5.8 MB/s eta 0:00:01\n",
      "   --------- ------------------------------ 0.6/2.6 MB 6.8 MB/s eta 0:00:01\n",
      "   -------------- ------------------------- 0.9/2.6 MB 6.6 MB/s eta 0:00:01\n",
      "   ----------------- ---------------------- 1.2/2.6 MB 6.2 MB/s eta 0:00:01\n",
      "   ----------------------- ---------------- 1.5/2.6 MB 6.5 MB/s eta 0:00:01\n",
      "   --------------------------- ------------ 1.8/2.6 MB 6.5 MB/s eta 0:00:01\n",
      "   -------------------------------- ------- 2.2/2.6 MB 6.5 MB/s eta 0:00:01\n",
      "   ------------------------------------ --- 2.4/2.6 MB 6.4 MB/s eta 0:00:01\n",
      "   ---------------------------------------- 2.6/2.6 MB 6.2 MB/s eta 0:00:00\n",
      "Downloading pyparsing-3.1.1-py3-none-any.whl (103 kB)\n",
      "   ---------------------------------------- 0.0/103.1 kB ? eta -:--:--\n",
      "   ---------------------------------------- 103.1/103.1 kB 5.8 MB/s eta 0:00:00\n",
      "Downloading pytz-2024.1-py2.py3-none-any.whl (505 kB)\n",
      "   ---------------------------------------- 0.0/505.5 kB ? eta -:--:--\n",
      "   --------------------------- ----------- 358.4/505.5 kB 11.2 MB/s eta 0:00:01\n",
      "   ---------------------------------------- 505.5/505.5 kB 8.0 MB/s eta 0:00:00\n",
      "Downloading tzdata-2024.1-py2.py3-none-any.whl (345 kB)\n",
      "   ---------------------------------------- 0.0/345.4 kB ? eta -:--:--\n",
      "   ----------------------- ---------------- 204.8/345.4 kB 6.3 MB/s eta 0:00:01\n",
      "   ---------------------------------------- 345.4/345.4 kB 5.4 MB/s eta 0:00:00\n",
      "Installing collected packages: pytz, tzdata, pyparsing, pillow, kiwisolver, fonttools, cycler, contourpy, pandas, matplotlib, seaborn\n",
      "Successfully installed contourpy-1.2.0 cycler-0.12.1 fonttools-4.49.0 kiwisolver-1.4.5 matplotlib-3.8.3 pandas-2.2.1 pillow-10.2.0 pyparsing-3.1.1 pytz-2024.1 seaborn-0.13.2 tzdata-2024.1\n",
      "Note: you may need to restart the kernel to use updated packages.\n"
     ]
    },
    {
     "name": "stderr",
     "output_type": "stream",
     "text": [
      "\n",
      "[notice] A new release of pip is available: 23.3.2 -> 24.0\n",
      "[notice] To update, run: C:\\Users\\User\\AppData\\Local\\Microsoft\\WindowsApps\\PythonSoftwareFoundation.Python.3.11_qbz5n2kfra8p0\\python.exe -m pip install --upgrade pip\n"
     ]
    }
   ],
   "source": [
    "pip install seaborn\n"
   ]
  },
  {
   "cell_type": "code",
   "execution_count": 23,
   "metadata": {},
   "outputs": [],
   "source": [
    "import seaborn"
   ]
  },
  {
   "cell_type": "code",
   "execution_count": null,
   "metadata": {},
   "outputs": [],
   "source": []
  }
 ],
 "metadata": {
  "kernelspec": {
   "display_name": "Python 3",
   "language": "python",
   "name": "python3"
  },
  "language_info": {
   "codemirror_mode": {
    "name": "ipython",
    "version": 3
   },
   "file_extension": ".py",
   "mimetype": "text/x-python",
   "name": "python",
   "nbconvert_exporter": "python",
   "pygments_lexer": "ipython3",
   "version": "3.11.9"
  }
 },
 "nbformat": 4,
 "nbformat_minor": 2
}
